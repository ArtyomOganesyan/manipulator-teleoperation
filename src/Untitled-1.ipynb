{
 "cells": [
  {
   "cell_type": "code",
   "execution_count": 1,
   "metadata": {},
   "outputs": [],
   "source": [
    "import numpy as np\n",
    "import mujoco as mj\n",
    "from mujoco.glfw import glfw\n",
    "from overlay import Overlay\n",
    "from callbacks import Callback\n",
    "import utils\n",
    "import os\n",
    "\n",
    "from tests.test_joystick import JoystickHandler\n",
    "import tests.test_joystick as js\n",
    "from robot import UR5e"
   ]
  },
  {
   "cell_type": "code",
   "execution_count": 10,
   "metadata": {},
   "outputs": [],
   "source": [
    "PATH = 'models/'\n",
    "TASK_NAME = 'PickAndPlace'\n",
    "FILE_NAME = TASK_NAME + '.xml'\n",
    "SIMTIME = 100\n",
    "print_camera_config = False # this is useful for initializing view of the model)\n",
    "\n",
    "#get the full path\n",
    "current_dirname = os.getcwd()\n",
    "abspath = os.path.join(current_dirname + \"/\" + PATH + FILE_NAME)\n",
    "xml_path = abspath\n",
    "\n",
    "# MuJoCo data structures\n",
    "model = mj.MjModel.from_xml_path(r'C:\\Users\\Artyom\\Desktop\\manipulator-teleoperation\\manipulator-teleoperation\\models\\PickAndPlace.xml')  # MuJoCo model\n",
    "data = mj.MjData(model)                     # MuJoCo data\n",
    "cam = mj.MjvCamera()                        # Abstract camera\n",
    "opt = mj.MjvOption()                        # visualization options"
   ]
  },
  {
   "cell_type": "code",
   "execution_count": 17,
   "metadata": {},
   "outputs": [],
   "source": [
    "manipulator = UR5e(model, data)\n"
   ]
  },
  {
   "cell_type": "code",
   "execution_count": 26,
   "metadata": {},
   "outputs": [
    {
     "ename": "AttributeError",
     "evalue": "'UR5e' object has no attribute 'set_ctrl'",
     "output_type": "error",
     "traceback": [
      "\u001b[1;31m---------------------------------------------------------------------------\u001b[0m",
      "\u001b[1;31mAttributeError\u001b[0m                            Traceback (most recent call last)",
      "Cell \u001b[1;32mIn[26], line 1\u001b[0m\n\u001b[1;32m----> 1\u001b[0m \u001b[43mmanipulator\u001b[49m\u001b[38;5;241;43m.\u001b[39;49m\u001b[43mset_ctrl\u001b[49m(\u001b[38;5;241m2\u001b[39m)\n",
      "\u001b[1;31mAttributeError\u001b[0m: 'UR5e' object has no attribute 'set_ctrl'"
     ]
    }
   ],
   "source": [
    "manipulator.set_ctrl(2)"
   ]
  }
 ],
 "metadata": {
  "kernelspec": {
   "display_name": "robot_programming_project",
   "language": "python",
   "name": "python3"
  },
  "language_info": {
   "codemirror_mode": {
    "name": "ipython",
    "version": 3
   },
   "file_extension": ".py",
   "mimetype": "text/x-python",
   "name": "python",
   "nbconvert_exporter": "python",
   "pygments_lexer": "ipython3",
   "version": "3.10.12"
  }
 },
 "nbformat": 4,
 "nbformat_minor": 2
}
